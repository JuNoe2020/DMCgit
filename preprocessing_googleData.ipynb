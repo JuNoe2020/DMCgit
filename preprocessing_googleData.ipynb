{
 "cells": [
  {
   "cell_type": "code",
   "execution_count": 1,
   "metadata": {},
   "outputs": [],
   "source": [
    "import pandas as pd"
   ]
  },
  {
   "cell_type": "code",
   "execution_count": 2,
   "metadata": {
    "scrolled": true
   },
   "outputs": [
    {
     "name": "stderr",
     "output_type": "stream",
     "text": [
      "C:\\Users\\JuNoe\\anaconda3\\lib\\site-packages\\IPython\\core\\interactiveshell.py:3146: DtypeWarning: Columns (4) have mixed types.Specify dtype option on import or set low_memory=False.\n",
      "  has_raised = await self.run_ast_nodes(code_ast.body, cell_name,\n"
     ]
    }
   ],
   "source": [
    "df_train = pd.read_csv('data/cleansed_df_v2.csv')\n",
    "df_test = pd.read_csv('data/cleansed_df_test_v2.csv')"
   ]
  },
  {
   "cell_type": "markdown",
   "metadata": {},
   "source": [
    "### 불필요한 컬럼 제거"
   ]
  },
  {
   "cell_type": "code",
   "execution_count": 3,
   "metadata": {
    "scrolled": true
   },
   "outputs": [],
   "source": [
    "df_train.drop(['Unnamed: 0', 'Unnamed: 0.1', 'date', 'fullVisitorId', 'visitId'], axis=1, inplace = True)\n",
    "df_test.drop(['Unnamed: 0', 'Unnamed: 0.1', 'date', 'fullVisitorId', 'visitId'], axis=1, inplace = True)"
   ]
  },
  {
   "cell_type": "markdown",
   "metadata": {},
   "source": [
    "### totalTransactionRevenue 달러단위 변환"
   ]
  },
  {
   "cell_type": "code",
   "execution_count": 4,
   "metadata": {
    "scrolled": true
   },
   "outputs": [],
   "source": [
    "df_train['totals.totalTransactionRevenue'] = df_train['totals.totalTransactionRevenue']/1000000\n",
    "df_test['totals.totalTransactionRevenue'] = df_test['totals.totalTransactionRevenue']/1000000"
   ]
  },
  {
   "cell_type": "code",
   "execution_count": 5,
   "metadata": {
    "scrolled": true
   },
   "outputs": [
    {
     "data": {
      "text/plain": [
       "47082.06"
      ]
     },
     "execution_count": 5,
     "metadata": {},
     "output_type": "execute_result"
    }
   ],
   "source": [
    "df_train['totals.totalTransactionRevenue'].max()"
   ]
  },
  {
   "cell_type": "code",
   "execution_count": 6,
   "metadata": {},
   "outputs": [],
   "source": [
    "# df_train.to_csv('preprocessed_train.csv')\n",
    "# df_test.to_csv('preprocessed_test.csv')"
   ]
  },
  {
   "cell_type": "code",
   "execution_count": 7,
   "metadata": {},
   "outputs": [
    {
     "data": {
      "text/html": [
       "<div>\n",
       "<style scoped>\n",
       "    .dataframe tbody tr th:only-of-type {\n",
       "        vertical-align: middle;\n",
       "    }\n",
       "\n",
       "    .dataframe tbody tr th {\n",
       "        vertical-align: top;\n",
       "    }\n",
       "\n",
       "    .dataframe thead th {\n",
       "        text-align: right;\n",
       "    }\n",
       "</style>\n",
       "<table border=\"1\" class=\"dataframe\">\n",
       "  <thead>\n",
       "    <tr style=\"text-align: right;\">\n",
       "      <th></th>\n",
       "      <th>channelGrouping</th>\n",
       "      <th>visitNumber</th>\n",
       "      <th>visitStartTime</th>\n",
       "      <th>device.browser</th>\n",
       "      <th>device.operatingSystem</th>\n",
       "      <th>device.isMobile</th>\n",
       "      <th>device.deviceCategory</th>\n",
       "      <th>geoNetwork.continent</th>\n",
       "      <th>geoNetwork.subContinent</th>\n",
       "      <th>geoNetwork.country</th>\n",
       "      <th>...</th>\n",
       "      <th>trafficSource.campaign</th>\n",
       "      <th>trafficSource.source</th>\n",
       "      <th>trafficSource.medium</th>\n",
       "      <th>trafficSource.keyword</th>\n",
       "      <th>trafficSource.referralPath</th>\n",
       "      <th>trafficSource.adContent</th>\n",
       "      <th>trafficSource.adwordsClickInfo.page</th>\n",
       "      <th>trafficSource.adwordsClickInfo.slot</th>\n",
       "      <th>trafficSource.adwordsClickInfo.gclId</th>\n",
       "      <th>trafficSource.adwordsClickInfo.adNetworkType</th>\n",
       "    </tr>\n",
       "  </thead>\n",
       "  <tbody>\n",
       "    <tr>\n",
       "      <th>0</th>\n",
       "      <td>Organic Search</td>\n",
       "      <td>1</td>\n",
       "      <td>1508198450</td>\n",
       "      <td>Firefox</td>\n",
       "      <td>Windows</td>\n",
       "      <td>False</td>\n",
       "      <td>desktop</td>\n",
       "      <td>Europe</td>\n",
       "      <td>Western Europe</td>\n",
       "      <td>Germany</td>\n",
       "      <td>...</td>\n",
       "      <td>(not set)</td>\n",
       "      <td>google</td>\n",
       "      <td>organic</td>\n",
       "      <td>water bottle</td>\n",
       "      <td>NaN</td>\n",
       "      <td>NaN</td>\n",
       "      <td>NaN</td>\n",
       "      <td>NaN</td>\n",
       "      <td>NaN</td>\n",
       "      <td>NaN</td>\n",
       "    </tr>\n",
       "    <tr>\n",
       "      <th>1</th>\n",
       "      <td>Referral</td>\n",
       "      <td>6</td>\n",
       "      <td>1508176307</td>\n",
       "      <td>Chrome</td>\n",
       "      <td>Chrome OS</td>\n",
       "      <td>False</td>\n",
       "      <td>desktop</td>\n",
       "      <td>Americas</td>\n",
       "      <td>Northern America</td>\n",
       "      <td>United States</td>\n",
       "      <td>...</td>\n",
       "      <td>(not set)</td>\n",
       "      <td>sites.google.com</td>\n",
       "      <td>referral</td>\n",
       "      <td>NaN</td>\n",
       "      <td>/a/google.com/transportation/mtv-services/bike...</td>\n",
       "      <td>NaN</td>\n",
       "      <td>NaN</td>\n",
       "      <td>NaN</td>\n",
       "      <td>NaN</td>\n",
       "      <td>NaN</td>\n",
       "    </tr>\n",
       "    <tr>\n",
       "      <th>2</th>\n",
       "      <td>Direct</td>\n",
       "      <td>1</td>\n",
       "      <td>1508201613</td>\n",
       "      <td>Chrome</td>\n",
       "      <td>Android</td>\n",
       "      <td>True</td>\n",
       "      <td>mobile</td>\n",
       "      <td>Americas</td>\n",
       "      <td>Northern America</td>\n",
       "      <td>United States</td>\n",
       "      <td>...</td>\n",
       "      <td>(not set)</td>\n",
       "      <td>(direct)</td>\n",
       "      <td>(none)</td>\n",
       "      <td>NaN</td>\n",
       "      <td>NaN</td>\n",
       "      <td>NaN</td>\n",
       "      <td>NaN</td>\n",
       "      <td>NaN</td>\n",
       "      <td>NaN</td>\n",
       "      <td>NaN</td>\n",
       "    </tr>\n",
       "    <tr>\n",
       "      <th>3</th>\n",
       "      <td>Organic Search</td>\n",
       "      <td>1</td>\n",
       "      <td>1508169851</td>\n",
       "      <td>Chrome</td>\n",
       "      <td>Windows</td>\n",
       "      <td>False</td>\n",
       "      <td>desktop</td>\n",
       "      <td>Asia</td>\n",
       "      <td>Western Asia</td>\n",
       "      <td>Turkey</td>\n",
       "      <td>...</td>\n",
       "      <td>(not set)</td>\n",
       "      <td>google</td>\n",
       "      <td>organic</td>\n",
       "      <td>(not provided)</td>\n",
       "      <td>NaN</td>\n",
       "      <td>NaN</td>\n",
       "      <td>NaN</td>\n",
       "      <td>NaN</td>\n",
       "      <td>NaN</td>\n",
       "      <td>NaN</td>\n",
       "    </tr>\n",
       "    <tr>\n",
       "      <th>4</th>\n",
       "      <td>Organic Search</td>\n",
       "      <td>1</td>\n",
       "      <td>1508190552</td>\n",
       "      <td>Chrome</td>\n",
       "      <td>Windows</td>\n",
       "      <td>False</td>\n",
       "      <td>desktop</td>\n",
       "      <td>Americas</td>\n",
       "      <td>Central America</td>\n",
       "      <td>Mexico</td>\n",
       "      <td>...</td>\n",
       "      <td>(not set)</td>\n",
       "      <td>google</td>\n",
       "      <td>organic</td>\n",
       "      <td>(not provided)</td>\n",
       "      <td>NaN</td>\n",
       "      <td>NaN</td>\n",
       "      <td>NaN</td>\n",
       "      <td>NaN</td>\n",
       "      <td>NaN</td>\n",
       "      <td>NaN</td>\n",
       "    </tr>\n",
       "    <tr>\n",
       "      <th>...</th>\n",
       "      <td>...</td>\n",
       "      <td>...</td>\n",
       "      <td>...</td>\n",
       "      <td>...</td>\n",
       "      <td>...</td>\n",
       "      <td>...</td>\n",
       "      <td>...</td>\n",
       "      <td>...</td>\n",
       "      <td>...</td>\n",
       "      <td>...</td>\n",
       "      <td>...</td>\n",
       "      <td>...</td>\n",
       "      <td>...</td>\n",
       "      <td>...</td>\n",
       "      <td>...</td>\n",
       "      <td>...</td>\n",
       "      <td>...</td>\n",
       "      <td>...</td>\n",
       "      <td>...</td>\n",
       "      <td>...</td>\n",
       "      <td>...</td>\n",
       "    </tr>\n",
       "    <tr>\n",
       "      <th>1708332</th>\n",
       "      <td>Social</td>\n",
       "      <td>1</td>\n",
       "      <td>1483554750</td>\n",
       "      <td>Chrome</td>\n",
       "      <td>Windows</td>\n",
       "      <td>False</td>\n",
       "      <td>desktop</td>\n",
       "      <td>Americas</td>\n",
       "      <td>Caribbean</td>\n",
       "      <td>Puerto Rico</td>\n",
       "      <td>...</td>\n",
       "      <td>(not set)</td>\n",
       "      <td>youtube.com</td>\n",
       "      <td>referral</td>\n",
       "      <td>NaN</td>\n",
       "      <td>/yt/about/</td>\n",
       "      <td>NaN</td>\n",
       "      <td>NaN</td>\n",
       "      <td>NaN</td>\n",
       "      <td>NaN</td>\n",
       "      <td>NaN</td>\n",
       "    </tr>\n",
       "    <tr>\n",
       "      <th>1708333</th>\n",
       "      <td>Social</td>\n",
       "      <td>1</td>\n",
       "      <td>1483543798</td>\n",
       "      <td>Chrome</td>\n",
       "      <td>Android</td>\n",
       "      <td>True</td>\n",
       "      <td>mobile</td>\n",
       "      <td>Asia</td>\n",
       "      <td>Southern Asia</td>\n",
       "      <td>Sri Lanka</td>\n",
       "      <td>...</td>\n",
       "      <td>(not set)</td>\n",
       "      <td>youtube.com</td>\n",
       "      <td>referral</td>\n",
       "      <td>NaN</td>\n",
       "      <td>/yt/about/</td>\n",
       "      <td>NaN</td>\n",
       "      <td>NaN</td>\n",
       "      <td>NaN</td>\n",
       "      <td>NaN</td>\n",
       "      <td>NaN</td>\n",
       "    </tr>\n",
       "    <tr>\n",
       "      <th>1708334</th>\n",
       "      <td>Social</td>\n",
       "      <td>1</td>\n",
       "      <td>1483526434</td>\n",
       "      <td>Android Webview</td>\n",
       "      <td>Android</td>\n",
       "      <td>True</td>\n",
       "      <td>mobile</td>\n",
       "      <td>Asia</td>\n",
       "      <td>Eastern Asia</td>\n",
       "      <td>South Korea</td>\n",
       "      <td>...</td>\n",
       "      <td>(not set)</td>\n",
       "      <td>youtube.com</td>\n",
       "      <td>referral</td>\n",
       "      <td>NaN</td>\n",
       "      <td>/yt/about/ko/</td>\n",
       "      <td>NaN</td>\n",
       "      <td>NaN</td>\n",
       "      <td>NaN</td>\n",
       "      <td>NaN</td>\n",
       "      <td>NaN</td>\n",
       "    </tr>\n",
       "    <tr>\n",
       "      <th>1708335</th>\n",
       "      <td>Social</td>\n",
       "      <td>1</td>\n",
       "      <td>1483592864</td>\n",
       "      <td>Chrome</td>\n",
       "      <td>Windows</td>\n",
       "      <td>False</td>\n",
       "      <td>desktop</td>\n",
       "      <td>Asia</td>\n",
       "      <td>Southeast Asia</td>\n",
       "      <td>Indonesia</td>\n",
       "      <td>...</td>\n",
       "      <td>(not set)</td>\n",
       "      <td>facebook.com</td>\n",
       "      <td>referral</td>\n",
       "      <td>NaN</td>\n",
       "      <td>/l.php</td>\n",
       "      <td>NaN</td>\n",
       "      <td>NaN</td>\n",
       "      <td>NaN</td>\n",
       "      <td>NaN</td>\n",
       "      <td>NaN</td>\n",
       "    </tr>\n",
       "    <tr>\n",
       "      <th>1708336</th>\n",
       "      <td>Social</td>\n",
       "      <td>1</td>\n",
       "      <td>1483574474</td>\n",
       "      <td>Chrome</td>\n",
       "      <td>Android</td>\n",
       "      <td>True</td>\n",
       "      <td>mobile</td>\n",
       "      <td>Americas</td>\n",
       "      <td>Central America</td>\n",
       "      <td>Mexico</td>\n",
       "      <td>...</td>\n",
       "      <td>(not set)</td>\n",
       "      <td>youtube.com</td>\n",
       "      <td>referral</td>\n",
       "      <td>NaN</td>\n",
       "      <td>/yt/about/es-419/</td>\n",
       "      <td>NaN</td>\n",
       "      <td>NaN</td>\n",
       "      <td>NaN</td>\n",
       "      <td>NaN</td>\n",
       "      <td>NaN</td>\n",
       "    </tr>\n",
       "  </tbody>\n",
       "</table>\n",
       "<p>1708337 rows × 29 columns</p>\n",
       "</div>"
      ],
      "text/plain": [
       "        channelGrouping  visitNumber  visitStartTime   device.browser  \\\n",
       "0        Organic Search            1      1508198450          Firefox   \n",
       "1              Referral            6      1508176307           Chrome   \n",
       "2                Direct            1      1508201613           Chrome   \n",
       "3        Organic Search            1      1508169851           Chrome   \n",
       "4        Organic Search            1      1508190552           Chrome   \n",
       "...                 ...          ...             ...              ...   \n",
       "1708332          Social            1      1483554750           Chrome   \n",
       "1708333          Social            1      1483543798           Chrome   \n",
       "1708334          Social            1      1483526434  Android Webview   \n",
       "1708335          Social            1      1483592864           Chrome   \n",
       "1708336          Social            1      1483574474           Chrome   \n",
       "\n",
       "        device.operatingSystem  device.isMobile device.deviceCategory  \\\n",
       "0                      Windows            False               desktop   \n",
       "1                    Chrome OS            False               desktop   \n",
       "2                      Android             True                mobile   \n",
       "3                      Windows            False               desktop   \n",
       "4                      Windows            False               desktop   \n",
       "...                        ...              ...                   ...   \n",
       "1708332                Windows            False               desktop   \n",
       "1708333                Android             True                mobile   \n",
       "1708334                Android             True                mobile   \n",
       "1708335                Windows            False               desktop   \n",
       "1708336                Android             True                mobile   \n",
       "\n",
       "        geoNetwork.continent geoNetwork.subContinent geoNetwork.country  ...  \\\n",
       "0                     Europe          Western Europe            Germany  ...   \n",
       "1                   Americas        Northern America      United States  ...   \n",
       "2                   Americas        Northern America      United States  ...   \n",
       "3                       Asia            Western Asia             Turkey  ...   \n",
       "4                   Americas         Central America             Mexico  ...   \n",
       "...                      ...                     ...                ...  ...   \n",
       "1708332             Americas               Caribbean        Puerto Rico  ...   \n",
       "1708333                 Asia           Southern Asia          Sri Lanka  ...   \n",
       "1708334                 Asia            Eastern Asia        South Korea  ...   \n",
       "1708335                 Asia          Southeast Asia          Indonesia  ...   \n",
       "1708336             Americas         Central America             Mexico  ...   \n",
       "\n",
       "        trafficSource.campaign trafficSource.source trafficSource.medium  \\\n",
       "0                    (not set)               google              organic   \n",
       "1                    (not set)     sites.google.com             referral   \n",
       "2                    (not set)             (direct)               (none)   \n",
       "3                    (not set)               google              organic   \n",
       "4                    (not set)               google              organic   \n",
       "...                        ...                  ...                  ...   \n",
       "1708332              (not set)          youtube.com             referral   \n",
       "1708333              (not set)          youtube.com             referral   \n",
       "1708334              (not set)          youtube.com             referral   \n",
       "1708335              (not set)         facebook.com             referral   \n",
       "1708336              (not set)          youtube.com             referral   \n",
       "\n",
       "         trafficSource.keyword  \\\n",
       "0                 water bottle   \n",
       "1                          NaN   \n",
       "2                          NaN   \n",
       "3               (not provided)   \n",
       "4               (not provided)   \n",
       "...                        ...   \n",
       "1708332                    NaN   \n",
       "1708333                    NaN   \n",
       "1708334                    NaN   \n",
       "1708335                    NaN   \n",
       "1708336                    NaN   \n",
       "\n",
       "                                trafficSource.referralPath  \\\n",
       "0                                                      NaN   \n",
       "1        /a/google.com/transportation/mtv-services/bike...   \n",
       "2                                                      NaN   \n",
       "3                                                      NaN   \n",
       "4                                                      NaN   \n",
       "...                                                    ...   \n",
       "1708332                                         /yt/about/   \n",
       "1708333                                         /yt/about/   \n",
       "1708334                                      /yt/about/ko/   \n",
       "1708335                                             /l.php   \n",
       "1708336                                  /yt/about/es-419/   \n",
       "\n",
       "         trafficSource.adContent  trafficSource.adwordsClickInfo.page  \\\n",
       "0                            NaN                                  NaN   \n",
       "1                            NaN                                  NaN   \n",
       "2                            NaN                                  NaN   \n",
       "3                            NaN                                  NaN   \n",
       "4                            NaN                                  NaN   \n",
       "...                          ...                                  ...   \n",
       "1708332                      NaN                                  NaN   \n",
       "1708333                      NaN                                  NaN   \n",
       "1708334                      NaN                                  NaN   \n",
       "1708335                      NaN                                  NaN   \n",
       "1708336                      NaN                                  NaN   \n",
       "\n",
       "         trafficSource.adwordsClickInfo.slot  \\\n",
       "0                                        NaN   \n",
       "1                                        NaN   \n",
       "2                                        NaN   \n",
       "3                                        NaN   \n",
       "4                                        NaN   \n",
       "...                                      ...   \n",
       "1708332                                  NaN   \n",
       "1708333                                  NaN   \n",
       "1708334                                  NaN   \n",
       "1708335                                  NaN   \n",
       "1708336                                  NaN   \n",
       "\n",
       "         trafficSource.adwordsClickInfo.gclId  \\\n",
       "0                                         NaN   \n",
       "1                                         NaN   \n",
       "2                                         NaN   \n",
       "3                                         NaN   \n",
       "4                                         NaN   \n",
       "...                                       ...   \n",
       "1708332                                   NaN   \n",
       "1708333                                   NaN   \n",
       "1708334                                   NaN   \n",
       "1708335                                   NaN   \n",
       "1708336                                   NaN   \n",
       "\n",
       "        trafficSource.adwordsClickInfo.adNetworkType  \n",
       "0                                                NaN  \n",
       "1                                                NaN  \n",
       "2                                                NaN  \n",
       "3                                                NaN  \n",
       "4                                                NaN  \n",
       "...                                              ...  \n",
       "1708332                                          NaN  \n",
       "1708333                                          NaN  \n",
       "1708334                                          NaN  \n",
       "1708335                                          NaN  \n",
       "1708336                                          NaN  \n",
       "\n",
       "[1708337 rows x 29 columns]"
      ]
     },
     "execution_count": 7,
     "metadata": {},
     "output_type": "execute_result"
    }
   ],
   "source": [
    "df_train"
   ]
  },
  {
   "cell_type": "code",
   "execution_count": 8,
   "metadata": {},
   "outputs": [
    {
     "data": {
      "text/plain": [
       "29"
      ]
     },
     "execution_count": 8,
     "metadata": {},
     "output_type": "execute_result"
    }
   ],
   "source": [
    "len(df_train.dtypes)"
   ]
  },
  {
   "cell_type": "markdown",
   "metadata": {},
   "source": [
    "### 변수 탐색"
   ]
  },
  {
   "cell_type": "code",
   "execution_count": 9,
   "metadata": {
    "scrolled": false
   },
   "outputs": [
    {
     "name": "stdout",
     "output_type": "stream",
     "text": [
      "<class 'pandas.core.frame.DataFrame'>\n",
      "RangeIndex: 1708337 entries, 0 to 1708336\n",
      "Data columns (total 29 columns):\n",
      " #   Column                                        Dtype  \n",
      "---  ------                                        -----  \n",
      " 0   channelGrouping                               object \n",
      " 1   visitNumber                                   int64  \n",
      " 2   visitStartTime                                int64  \n",
      " 3   device.browser                                object \n",
      " 4   device.operatingSystem                        object \n",
      " 5   device.isMobile                               bool   \n",
      " 6   device.deviceCategory                         object \n",
      " 7   geoNetwork.continent                          object \n",
      " 8   geoNetwork.subContinent                       object \n",
      " 9   geoNetwork.country                            object \n",
      " 10  geoNetwork.region                             object \n",
      " 11  geoNetwork.metro                              object \n",
      " 12  geoNetwork.city                               object \n",
      " 13  totals.hits                                   int64  \n",
      " 14  totals.pageviews                              float64\n",
      " 15  totals.sessionQualityDim                      float64\n",
      " 16  totals.timeOnSite                             float64\n",
      " 17  totals.transactions                           float64\n",
      " 18  totals.totalTransactionRevenue                float64\n",
      " 19  trafficSource.campaign                        object \n",
      " 20  trafficSource.source                          object \n",
      " 21  trafficSource.medium                          object \n",
      " 22  trafficSource.keyword                         object \n",
      " 23  trafficSource.referralPath                    object \n",
      " 24  trafficSource.adContent                       object \n",
      " 25  trafficSource.adwordsClickInfo.page           float64\n",
      " 26  trafficSource.adwordsClickInfo.slot           object \n",
      " 27  trafficSource.adwordsClickInfo.gclId          object \n",
      " 28  trafficSource.adwordsClickInfo.adNetworkType  object \n",
      "dtypes: bool(1), float64(6), int64(3), object(19)\n",
      "memory usage: 366.6+ MB\n"
     ]
    }
   ],
   "source": [
    "df_train.info()"
   ]
  },
  {
   "cell_type": "code",
   "execution_count": 10,
   "metadata": {},
   "outputs": [
    {
     "data": {
      "text/plain": [
       "array([False,  True])"
      ]
     },
     "execution_count": 10,
     "metadata": {},
     "output_type": "execute_result"
    }
   ],
   "source": [
    "df_train['device.isMobile'].unique()"
   ]
  },
  {
   "cell_type": "code",
   "execution_count": 11,
   "metadata": {},
   "outputs": [
    {
     "data": {
      "text/plain": [
       "array([  1.,   2.,   3.,   4.,   5.,   6.,   7.,   8.,   9.,  10.,  11.,\n",
       "        12.,  13.,  14.,  15.,  16.,  17.,  18.,  20.,  19.,  21.,  23.,\n",
       "        22.,  26.,  28.,  25.,  31.,  27.,  24.,  29.,  30.,  32.,  33.,\n",
       "        42.,  38.,  53.,  40.,  62.,  61.,  54.,  60., 111.,  98.,  34.,\n",
       "        35.,  36.,  37.,  39.,  43.,  45.,  47.,  52.,  44.,  50.,  49.,\n",
       "        46.,  51.,  56.,  59.,  71.,  57.,  82.,  84.,  92.,  90.,  68.,\n",
       "       115.,  nan,  41.,  79., 138.,  48.,  69., 112.,  65.,  63.,  58.,\n",
       "        74., 165., 100.,  85.,  55.,  70.,  80.,  78.,  72., 188.,  73.,\n",
       "        75.,  86., 197.,  76.,  67., 102., 148.,  64., 103., 144.,  81.,\n",
       "       119.,  66., 104., 128., 230.,  87., 152., 101.,  94.,  83., 135.,\n",
       "        91.,  99., 118., 107., 140., 108.,  77., 202., 127.,  93., 106.,\n",
       "       155., 117.,  89., 143., 105.,  95., 110., 137., 125., 120., 116.,\n",
       "       208., 126., 400., 333.,  97.,  96., 113., 327., 154., 121., 183.,\n",
       "       123., 141., 224.,  88., 157., 195., 343., 193., 156., 150., 122.,\n",
       "       145., 174., 147., 131., 169., 164., 249., 114., 189., 223., 386.,\n",
       "       199., 243., 194., 124., 139., 365., 483., 146., 309., 341., 469.,\n",
       "       162., 176., 270., 233., 153., 161., 179., 129., 220., 171., 191.,\n",
       "       323., 431., 351., 132., 305., 175., 130., 166., 200., 109., 185.,\n",
       "       245., 219., 167., 173., 133., 149., 283., 136., 500., 159., 168.,\n",
       "       182., 358., 466., 340., 215., 250., 142., 275., 312., 134., 196.,\n",
       "       324., 300., 190., 198., 210., 201., 232., 429., 213., 151., 186.])"
      ]
     },
     "execution_count": 11,
     "metadata": {},
     "output_type": "execute_result"
    }
   ],
   "source": [
    "df_train['totals.pageviews'].unique()"
   ]
  },
  {
   "cell_type": "code",
   "execution_count": 12,
   "metadata": {},
   "outputs": [
    {
     "data": {
      "text/plain": [
       "array([  1.,   2.,   3.,   4.,   6.,   8.,   5.,   7.,  11.,  13.,   9.,\n",
       "        10.,  49.,  52.,  22.,  54.,  31.,  28.,  60.,  35.,  30.,  32.,\n",
       "        41.,  19.,  25.,  15.,  24.,  62.,  12.,  14.,  17.,  38.,  63.,\n",
       "        16.,  23.,  42.,  21.,  18.,  48.,  40.,  73.,  53.,  61.,  36.,\n",
       "        67.,  47.,  72.,  77.,  58.,  45.,  26.,  75.,  68.,  59.,  43.,\n",
       "        80.,  46.,  74.,  76.,  66.,  81.,  82.,  70.,  27.,  56.,  50.,\n",
       "        88.,  39.,  44.,  85.,  55.,  79.,  64.,  93.,  83.,  78.,  86.,\n",
       "        65.,  69.,  84.,  71.,  51.,  nan,  34.,  20.,  57.,  37.,  29.,\n",
       "        90.,  87.,  92.,  91.,  96.,  33.,  89.,  94.,  95.,  97.,  99.,\n",
       "        98., 100.])"
      ]
     },
     "execution_count": 12,
     "metadata": {},
     "output_type": "execute_result"
    }
   ],
   "source": [
    "df_train['totals.sessionQualityDim'].unique()"
   ]
  },
  {
   "cell_type": "code",
   "execution_count": 13,
   "metadata": {},
   "outputs": [
    {
     "data": {
      "text/plain": [
       "array([  nan,   28.,   38., ..., 4665., 5381., 8811.])"
      ]
     },
     "execution_count": 13,
     "metadata": {},
     "output_type": "execute_result"
    }
   ],
   "source": [
    "df_train['totals.timeOnSite'].unique()"
   ]
  },
  {
   "cell_type": "code",
   "execution_count": 14,
   "metadata": {},
   "outputs": [
    {
     "data": {
      "text/plain": [
       "array([nan,  1.,  2.,  3.,  4.,  8.,  7.,  5.,  6., 10., 21., 25., 12.,\n",
       "       15.])"
      ]
     },
     "execution_count": 14,
     "metadata": {},
     "output_type": "execute_result"
    }
   ],
   "source": [
    "df_train['totals.transactions'].unique()"
   ]
  },
  {
   "cell_type": "code",
   "execution_count": 15,
   "metadata": {},
   "outputs": [
    {
     "data": {
      "text/plain": [
       "array([nan,  1.,  3.,  2.,  5.,  6.,  4., 14.,  7.,  8.,  9., 12.])"
      ]
     },
     "execution_count": 15,
     "metadata": {},
     "output_type": "execute_result"
    }
   ],
   "source": [
    "df_train['trafficSource.adwordsClickInfo.page'].unique()"
   ]
  },
  {
   "cell_type": "code",
   "execution_count": 16,
   "metadata": {},
   "outputs": [
    {
     "data": {
      "text/plain": [
       "array([  1,   6,   2,  10,   3,   4,  14,  11,   7,  15,  17,   5,  13,\n",
       "        16,   8,  34,  21,  18,  28,   9,  12,  29, 138,  36,  30, 102,\n",
       "        20,  54,  33,  57,  19,  45,  27,  39,  43,  25,  26,  23,  31,\n",
       "        99, 100, 101,  46,  24,  22,  56,  83,  38,  84,  42,  89, 136,\n",
       "        85, 105,  48,  93,  50,  64,  94,  70,  98, 149,  72,  69,  35,\n",
       "       124, 178,  59, 317,  51, 160,  52,  63,  47,  49,  88, 140,  91,\n",
       "        92,  41,  74, 309,  61,  32, 108, 195, 162, 235,  90,  86, 236,\n",
       "       158,  82, 159, 148, 125,  55,  66, 401,  65,  40,  60,  58, 137,\n",
       "       126, 112, 155,  96,  73,  78,  97,  87,  76,  77, 304, 107, 106,\n",
       "       389,  68, 132, 266, 267, 221, 143, 104, 142, 245, 174, 121, 175,\n",
       "       191, 190, 189, 204,  37, 206, 156, 157,  62, 110, 109, 184, 183,\n",
       "       169, 163, 150, 147, 113, 164,  44, 194, 193, 254,  71,  53, 145,\n",
       "       144, 146,  80, 253, 222, 223,  81, 128, 192, 129, 161, 152, 324,\n",
       "       134, 135, 130,  95,  75, 103, 315, 154, 153, 283, 117, 181, 272,\n",
       "       273, 118, 208, 122, 287, 133, 396, 115, 114, 131, 202, 232, 120,\n",
       "       262, 263, 295, 297, 298, 219, 296, 141, 207, 187, 170, 369, 205,\n",
       "        79, 400, 173, 172, 265, 264,  67, 326, 325, 197, 167, 196, 278,\n",
       "       188, 186, 185, 279, 230, 258, 456, 139, 127, 233, 234, 168, 306,\n",
       "       119, 403, 404, 402, 151, 171, 440, 215, 453, 452, 316, 123, 259,\n",
       "       261, 260, 218, 199, 392, 299, 200, 220, 111, 203, 198, 280, 281,\n",
       "       363, 177, 182, 116, 373, 302, 448, 447, 213, 212, 224, 348, 225,\n",
       "       226, 386, 387, 176, 269, 413, 250, 355, 370, 285, 286, 247, 248,\n",
       "       288, 227, 228, 308, 165, 166, 362, 381, 214, 346, 345, 216, 179,\n",
       "       391, 441, 244, 329, 243, 408, 257, 255, 256, 217, 252, 251, 180,\n",
       "       357, 359, 358, 356, 277, 229, 271, 292, 291, 420, 421, 341, 340,\n",
       "       339, 338, 209, 210, 211, 237, 425, 423, 422, 424, 450, 449, 313,\n",
       "       301, 300, 303, 457, 307, 432, 238, 239, 241, 268, 270, 395, 385,\n",
       "       443, 231, 445, 284, 361, 360, 364, 380, 416, 328, 320, 319, 201,\n",
       "       322, 323, 294, 293, 311, 354, 375, 276, 242, 289, 240, 388, 312,\n",
       "       282, 407, 414, 418, 275, 274, 371, 344, 455, 428, 429, 383, 353,\n",
       "       397, 390, 415, 334, 335, 333, 332, 246, 249, 398, 412, 290, 321,\n",
       "       366, 365, 368, 367, 454, 337, 351, 352, 350, 349, 330, 331, 347,\n",
       "       342, 343, 384, 419, 374, 327, 318, 393, 430, 431, 410, 411, 378,\n",
       "       379, 372, 433, 434, 417, 314, 438, 439, 442, 336, 435, 437, 436,\n",
       "       399, 310, 405, 394, 305, 444, 406, 377, 376, 427, 426, 409, 382,\n",
       "       451, 446], dtype=int64)"
      ]
     },
     "execution_count": 16,
     "metadata": {},
     "output_type": "execute_result"
    }
   ],
   "source": [
    "df_train['visitNumber'].unique()"
   ]
  },
  {
   "cell_type": "code",
   "execution_count": 17,
   "metadata": {},
   "outputs": [
    {
     "data": {
      "text/plain": [
       "array([1508198450, 1508176307, 1508201613, ..., 1483526434, 1483592864,\n",
       "       1483574474], dtype=int64)"
      ]
     },
     "execution_count": 17,
     "metadata": {},
     "output_type": "execute_result"
    }
   ],
   "source": [
    "df_train['visitStartTime'].unique()"
   ]
  },
  {
   "cell_type": "code",
   "execution_count": 18,
   "metadata": {},
   "outputs": [
    {
     "data": {
      "text/plain": [
       "array([  1,   2,   3,   4,   5,   6,   7,   8,   9,  10,  11,  12,  13,\n",
       "        14,  15,  16,  17,  18,  19,  20,  21,  22,  23,  24,  25,  26,\n",
       "        27,  28,  29,  30,  31,  32,  33,  34,  35,  36,  37,  38,  39,\n",
       "        40,  41,  43,  45,  46,  47,  50,  52,  56,  58,  62,  66,  69,\n",
       "        74,  75,  85,  90,  93,  94, 138, 165,  42,  44,  48,  49,  51,\n",
       "        54,  55,  57,  65,  67,  72,  79,  82,  83,  92, 103, 109, 134,\n",
       "       143, 144,  53,  61,  70, 106, 137,  73, 112, 189,  63,  81,  91,\n",
       "       102, 161,  86,  99,  80,  89, 100,  71,  76,  77,  95, 229,  64,\n",
       "       154,  78,  84,  87,  97, 104, 108, 115, 119, 136,  60,  68,  96,\n",
       "       107, 110, 113, 147, 331,  59,  98, 303, 179, 146, 218, 101, 149,\n",
       "       114, 156, 105,  88, 116, 141, 175, 111, 241, 298, 224, 120, 145,\n",
       "       183, 227, 126, 148, 181, 155, 215, 187, 130, 176, 202, 121, 122,\n",
       "       207, 117, 140, 193, 302, 142, 196, 201, 133, 159, 167, 125, 131,\n",
       "       150, 168, 311, 127, 249, 500, 118, 188, 166, 139, 123, 124, 162,\n",
       "       170, 132, 151, 279, 328, 299, 174, 386, 286, 282, 220, 185, 291,\n",
       "       135, 172, 163, 273, 129, 292, 242, 257, 250, 357, 200, 160, 169,\n",
       "       217, 177, 353, 152, 128, 199, 191, 301, 330, 483, 232, 280, 245,\n",
       "       158, 265, 213, 247, 182, 208, 347, 387, 209, 192, 153, 210, 262,\n",
       "       184, 205, 385, 171, 212, 382, 378, 307, 180, 226, 276, 195, 252,\n",
       "       157, 471, 233, 427, 333, 164, 340, 259, 406, 240, 198, 246, 400,\n",
       "       206, 317, 462, 186, 197, 251, 489, 238, 445, 278, 228, 194, 234,\n",
       "       260, 203, 283, 312, 261, 243, 268, 221, 178, 362, 239, 258, 281,\n",
       "       349, 204, 216, 361, 437, 235, 422, 397, 244, 308, 237], dtype=int64)"
      ]
     },
     "execution_count": 18,
     "metadata": {},
     "output_type": "execute_result"
    }
   ],
   "source": [
    "df_train['totals.hits'].unique()"
   ]
  },
  {
   "cell_type": "code",
   "execution_count": 19,
   "metadata": {
    "scrolled": false
   },
   "outputs": [
    {
     "data": {
      "text/plain": [
       "array(['Organic Search', 'Referral', 'Direct', 'Paid Search', 'Display',\n",
       "       'Affiliates', 'Social', '(Other)'], dtype=object)"
      ]
     },
     "execution_count": 19,
     "metadata": {},
     "output_type": "execute_result"
    }
   ],
   "source": [
    "df_train['channelGrouping'].unique()"
   ]
  },
  {
   "cell_type": "code",
   "execution_count": 20,
   "metadata": {
    "scrolled": false
   },
   "outputs": [
    {
     "data": {
      "text/plain": [
       "0          1508198450\n",
       "1          1508176307\n",
       "2          1508201613\n",
       "3          1508169851\n",
       "4          1508190552\n",
       "              ...    \n",
       "1708332    1483554750\n",
       "1708333    1483543798\n",
       "1708334    1483526434\n",
       "1708335    1483592864\n",
       "1708336    1483574474\n",
       "Name: visitStartTime, Length: 1708337, dtype: int64"
      ]
     },
     "execution_count": 20,
     "metadata": {},
     "output_type": "execute_result"
    }
   ],
   "source": [
    "df_train['visitStartTime']"
   ]
  },
  {
   "cell_type": "code",
   "execution_count": 21,
   "metadata": {},
   "outputs": [
    {
     "name": "stdout",
     "output_type": "stream",
     "text": [
      "<class 'pandas.core.frame.DataFrame'>\n",
      "RangeIndex: 1708337 entries, 0 to 1708336\n",
      "Data columns (total 29 columns):\n",
      " #   Column                                        Dtype  \n",
      "---  ------                                        -----  \n",
      " 0   channelGrouping                               object \n",
      " 1   visitNumber                                   int64  \n",
      " 2   visitStartTime                                int64  \n",
      " 3   device.browser                                object \n",
      " 4   device.operatingSystem                        object \n",
      " 5   device.isMobile                               bool   \n",
      " 6   device.deviceCategory                         object \n",
      " 7   geoNetwork.continent                          object \n",
      " 8   geoNetwork.subContinent                       object \n",
      " 9   geoNetwork.country                            object \n",
      " 10  geoNetwork.region                             object \n",
      " 11  geoNetwork.metro                              object \n",
      " 12  geoNetwork.city                               object \n",
      " 13  totals.hits                                   int64  \n",
      " 14  totals.pageviews                              float64\n",
      " 15  totals.sessionQualityDim                      float64\n",
      " 16  totals.timeOnSite                             float64\n",
      " 17  totals.transactions                           float64\n",
      " 18  totals.totalTransactionRevenue                float64\n",
      " 19  trafficSource.campaign                        object \n",
      " 20  trafficSource.source                          object \n",
      " 21  trafficSource.medium                          object \n",
      " 22  trafficSource.keyword                         object \n",
      " 23  trafficSource.referralPath                    object \n",
      " 24  trafficSource.adContent                       object \n",
      " 25  trafficSource.adwordsClickInfo.page           float64\n",
      " 26  trafficSource.adwordsClickInfo.slot           object \n",
      " 27  trafficSource.adwordsClickInfo.gclId          object \n",
      " 28  trafficSource.adwordsClickInfo.adNetworkType  object \n",
      "dtypes: bool(1), float64(6), int64(3), object(19)\n",
      "memory usage: 366.6+ MB\n"
     ]
    }
   ],
   "source": [
    "df_train.info()"
   ]
  },
  {
   "cell_type": "markdown",
   "metadata": {},
   "source": [
    "### visitStartTime을 시간 컬럼으로 변환"
   ]
  },
  {
   "cell_type": "code",
   "execution_count": 22,
   "metadata": {},
   "outputs": [],
   "source": [
    "from datetime import datetime\n",
    "df_train['_visitHour'] = (df_train['visitStartTime'].apply(lambda x: str(datetime.fromtimestamp(x).hour))).astype(int)\n",
    "df_test['_visitHour'] = (df_test['visitStartTime'].apply(lambda x: str(datetime.fromtimestamp(x).hour))).astype(int)"
   ]
  },
  {
   "cell_type": "code",
   "execution_count": 23,
   "metadata": {
    "scrolled": true
   },
   "outputs": [],
   "source": [
    "df_train.drop(['visitStartTime'], axis=1, inplace=True)\n",
    "df_test.drop(['visitStartTime'], axis=1, inplace=True)"
   ]
  },
  {
   "cell_type": "code",
   "execution_count": null,
   "metadata": {},
   "outputs": [],
   "source": []
  },
  {
   "cell_type": "markdown",
   "metadata": {},
   "source": [
    "### Autogluon용 데이터 저장"
   ]
  },
  {
   "cell_type": "code",
   "execution_count": 24,
   "metadata": {},
   "outputs": [],
   "source": [
    "filtered_train_rows = df_train['totals.totalTransactionRevenue'] !=0\n",
    "filtered_test_rows = df_test['totals.totalTransactionRevenue'] != 0\n",
    "\n",
    "df_train = df_train.loc[filtered_train_rows]\n",
    "df_test = df_test.loc[filtered_test_rows]"
   ]
  },
  {
   "cell_type": "code",
   "execution_count": 25,
   "metadata": {},
   "outputs": [],
   "source": [
    "df_train.to_csv('preprocessed_train_Auto.csv')\n",
    "df_test.to_csv('prerocessed_test_Auto.csv')"
   ]
  },
  {
   "cell_type": "code",
   "execution_count": 26,
   "metadata": {
    "scrolled": true
   },
   "outputs": [
    {
     "data": {
      "text/plain": [
       "18514"
      ]
     },
     "execution_count": 26,
     "metadata": {},
     "output_type": "execute_result"
    }
   ],
   "source": [
    "len(df_train)"
   ]
  },
  {
   "cell_type": "markdown",
   "metadata": {},
   "source": [
    "### 종속변수 EDA"
   ]
  },
  {
   "cell_type": "code",
   "execution_count": 27,
   "metadata": {},
   "outputs": [],
   "source": [
    "import matplotlib.pyplot as plt\n",
    "import seaborn as sns"
   ]
  },
  {
   "cell_type": "code",
   "execution_count": 28,
   "metadata": {
    "scrolled": false
   },
   "outputs": [
    {
     "data": {
      "image/png": "[encoded data removed]",
      "text/plain": [
       "<Figure size 1440x720 with 1 Axes>"
      ]
     },
     "metadata": {
      "needs_background": "light"
     },
     "output_type": "display_data"
    }
   ],
   "source": [
    "plt.figure(figsize=(20,10))\n",
    "sns.histplot(data=df_train, x=\"totals.totalTransactionRevenue\", kde=True)\n",
    "plt.show()\n"
   ]
  },
  {
   "cell_type": "code",
   "execution_count": 29,
   "metadata": {},
   "outputs": [
    {
     "name": "stdout",
     "output_type": "stream",
     "text": [
      "Skewness: 40.14   Kurtosis: 2264.49\n"
     ]
    }
   ],
   "source": [
    "print('Skewness: {:05.2f}'.format(df_train['totals.totalTransactionRevenue'].skew()),\n",
    "      ' ' , 'Kurtosis: {:06.2f}'.format(df_train['totals.totalTransactionRevenue'].kurt()) )"
   ]
  },
  {
   "cell_type": "markdown",
   "metadata": {},
   "source": [
    "##### right skewed"
   ]
  },
  {
   "cell_type": "code",
   "execution_count": 30,
   "metadata": {
    "scrolled": false
   },
   "outputs": [
    {
     "data": {
      "image/png": "[encoded data removed]",
      "text/plain": [
       "<Figure size 720x720 with 1 Axes>"
      ]
     },
     "metadata": {
      "needs_background": "light"
     },
     "output_type": "display_data"
    }
   ],
   "source": [
    "plt.figure(figsize=(10,10))\n",
    "sns.boxplot(data=df_train, y='totals.totalTransactionRevenue')\n",
    "plt.show()"
   ]
  },
  {
   "cell_type": "code",
   "execution_count": 31,
   "metadata": {
    "scrolled": true
   },
   "outputs": [
    {
     "data": {
      "text/plain": [
       "count    18514.00000\n",
       "mean       142.81667\n",
       "std        645.56436\n",
       "min          1.20000\n",
       "25%         28.96000\n",
       "50%         52.79000\n",
       "75%        108.96750\n",
       "max      47082.06000\n",
       "Name: totals.totalTransactionRevenue, dtype: float64"
      ]
     },
     "execution_count": 31,
     "metadata": {},
     "output_type": "execute_result"
    }
   ],
   "source": [
    "df_train['totals.totalTransactionRevenue'].describe()"
   ]
  },
  {
   "cell_type": "code",
   "execution_count": 32,
   "metadata": {
    "scrolled": false
   },
   "outputs": [
    {
     "data": {
      "image/png": "[encoded data removed]",
      "text/plain": [
       "<Figure size 1440x720 with 1 Axes>"
      ]
     },
     "metadata": {
      "needs_background": "light"
     },
     "output_type": "display_data"
    }
   ],
   "source": [
    "plt.figure(figsize=(20,10))\n",
    "sns.histplot(data=df_train, x=\"totals.totalTransactionRevenue\", log_scale=True, kde=True)\n",
    "plt.show()"
   ]
  },
  {
   "cell_type": "code",
   "execution_count": 33,
   "metadata": {},
   "outputs": [],
   "source": [
    "import numpy as np"
   ]
  },
  {
   "cell_type": "code",
   "execution_count": 34,
   "metadata": {
    "scrolled": false
   },
   "outputs": [
    {
     "name": "stderr",
     "output_type": "stream",
     "text": [
      "<ipython-input-34-a94a6935baf1>:1: SettingWithCopyWarning: \n",
      "A value is trying to be set on a copy of a slice from a DataFrame.\n",
      "Try using .loc[row_indexer,col_indexer] = value instead\n",
      "\n",
      "See the caveats in the documentation: https://pandas.pydata.org/pandas-docs/stable/user_guide/indexing.html#returning-a-view-versus-a-copy\n",
      "  df_train['Log_totals.totalTransactionRevenue'] = np.log1p(df_train['totals.totalTransactionRevenue'])\n",
      "C:\\Users\\JuNoe\\anaconda3\\lib\\site-packages\\seaborn\\distributions.py:2551: FutureWarning: `distplot` is a deprecated function and will be removed in a future version. Please adapt your code to use either `displot` (a figure-level function with similar flexibility) or `histplot` (an axes-level function for histograms).\n",
      "  warnings.warn(msg, FutureWarning)\n"
     ]
    },
    {
     "name": "stdout",
     "output_type": "stream",
     "text": [
      "Skewness: 0.851\n",
      "Kurtosis: 1.155\n"
     ]
    },
    {
     "data": {
      "image/png": "[encoded data removed]",
      "text/plain": [
       "<Figure size 720x432 with 1 Axes>"
      ]
     },
     "metadata": {
      "needs_background": "light"
     },
     "output_type": "display_data"
    }
   ],
   "source": [
    "df_train['Log_totals.totalTransactionRevenue'] = np.log1p(df_train['totals.totalTransactionRevenue'])\n",
    "f, ax = plt.subplots(figsize = (10, 6)) \n",
    "sns.distplot(df_train[\"Log_totals.totalTransactionRevenue\"])\n",
    "print(\"Skewness: {:.3f}\".format(df_train[\"Log_totals.totalTransactionRevenue\"].skew())) \n",
    "print(\"Kurtosis: {:.3f}\".format(df_train[\"Log_totals.totalTransactionRevenue\"].kurt()))"
   ]
  },
  {
   "cell_type": "markdown",
   "metadata": {},
   "source": [
    "##### 정규성 기준  :  |왜도| < 3, |첨도| < 8 by Kline(2005)"
   ]
  },
  {
   "cell_type": "code",
   "execution_count": 35,
   "metadata": {},
   "outputs": [
    {
     "data": {
      "image/png": "[encoded data removed]",
      "text/plain": [
       "<Figure size 1080x720 with 2 Axes>"
      ]
     },
     "metadata": {
      "needs_background": "light"
     },
     "output_type": "display_data"
    }
   ],
   "source": [
    "from scipy import stats \n",
    "\n",
    "fig = plt.figure(figsize = (15,10)) \n",
    "fig.add_subplot(1,2,1) \n",
    "res = stats.probplot(df_train[\"totals.totalTransactionRevenue\"], plot=plt) \n",
    "fig.add_subplot(1,2,2) \n",
    "res = stats.probplot(df_train[\"Log_totals.totalTransactionRevenue\"], plot=plt)"
   ]
  },
  {
   "cell_type": "code",
   "execution_count": 36,
   "metadata": {},
   "outputs": [
    {
     "name": "stdout",
     "output_type": "stream",
     "text": [
      "<class 'pandas.core.frame.DataFrame'>\n",
      "Int64Index: 18514 entries, 433 to 1708001\n",
      "Data columns (total 30 columns):\n",
      " #   Column                                        Non-Null Count  Dtype  \n",
      "---  ------                                        --------------  -----  \n",
      " 0   channelGrouping                               18514 non-null  object \n",
      " 1   visitNumber                                   18514 non-null  int64  \n",
      " 2   device.browser                                18514 non-null  object \n",
      " 3   device.operatingSystem                        18514 non-null  object \n",
      " 4   device.isMobile                               18514 non-null  bool   \n",
      " 5   device.deviceCategory                         18514 non-null  object \n",
      " 6   geoNetwork.continent                          18514 non-null  object \n",
      " 7   geoNetwork.subContinent                       18514 non-null  object \n",
      " 8   geoNetwork.country                            18514 non-null  object \n",
      " 9   geoNetwork.region                             18514 non-null  object \n",
      " 10  geoNetwork.metro                              18514 non-null  object \n",
      " 11  geoNetwork.city                               18514 non-null  object \n",
      " 12  totals.hits                                   18514 non-null  int64  \n",
      " 13  totals.pageviews                              18514 non-null  float64\n",
      " 14  totals.sessionQualityDim                      8049 non-null   float64\n",
      " 15  totals.timeOnSite                             18508 non-null  float64\n",
      " 16  totals.transactions                           18514 non-null  float64\n",
      " 17  totals.totalTransactionRevenue                18514 non-null  float64\n",
      " 18  trafficSource.campaign                        18514 non-null  object \n",
      " 19  trafficSource.source                          18514 non-null  object \n",
      " 20  trafficSource.medium                          18514 non-null  object \n",
      " 21  trafficSource.keyword                         4596 non-null   object \n",
      " 22  trafficSource.referralPath                    8747 non-null   object \n",
      " 23  trafficSource.adContent                       229 non-null    object \n",
      " 24  trafficSource.adwordsClickInfo.page           661 non-null    float64\n",
      " 25  trafficSource.adwordsClickInfo.slot           661 non-null    object \n",
      " 26  trafficSource.adwordsClickInfo.gclId          663 non-null    object \n",
      " 27  trafficSource.adwordsClickInfo.adNetworkType  661 non-null    object \n",
      " 28  _visitHour                                    18514 non-null  int32  \n",
      " 29  Log_totals.totalTransactionRevenue            18514 non-null  float64\n",
      "dtypes: bool(1), float64(7), int32(1), int64(2), object(19)\n",
      "memory usage: 4.2+ MB\n"
     ]
    }
   ],
   "source": [
    "df_train.info()"
   ]
  },
  {
   "cell_type": "code",
   "execution_count": 37,
   "metadata": {},
   "outputs": [
    {
     "data": {
      "text/plain": [
       "/                                                                                     8257\n",
       "/mail/u/0/                                                                              83\n",
       "/offer/2145                                                                             80\n",
       "/a/google.com/forum/                                                                    41\n",
       "/a/google.com/googletopia/discounts-deals-and-free-stuff/alphabet-google-discounts      37\n",
       "                                                                                      ... \n",
       "/r/chromeos/comments/39boco/looking_for_chrome_sticker/                                  1\n",
       "/xud9jul6em                                                                              1\n",
       "/neo/rd                                                                                  1\n",
       "/yt/about/brand-resources/                                                               1\n",
       "/yt/about/en-GB/                                                                         1\n",
       "Name: trafficSource.referralPath, Length: 75, dtype: int64"
      ]
     },
     "execution_count": 37,
     "metadata": {},
     "output_type": "execute_result"
    }
   ],
   "source": [
    "df_train['trafficSource.referralPath'].value_counts()"
   ]
  },
  {
   "cell_type": "code",
   "execution_count": 38,
   "metadata": {},
   "outputs": [
    {
     "data": {
      "text/plain": [
       "array([nan, '/',\n",
       "       '/a/google.com/google-merchandise-store/home/on-site-store',\n",
       "       '/permissions/using-the-logo.html',\n",
       "       '/_/scs/mail-static/_/js/k=gmail.main.en.sXDiEpUnPe0.O/m=m_i,t,it/am=nhGvDGD-3_uDcQ3DgK701brz33u-Xyo_e7nH_ycDROlVoP_N_h_A_4H-tI0C/rt=h/d=1/rs=AHGWq9Bm-1qj1hhkb8cG9EpeilyYgWjoxA',\n",
       "       '/a/google.com/google-merchandise-store/on-site-store',\n",
       "       '/offer/2145', '/mail/u/0/', '/yt/about/',\n",
       "       '/deal/-ds-sign-up-for-google-merchandise-store-emails-for-special-coup-c179',\n",
       "       '/a/google.com/googletopia/discounts-deals-and-free-stuff/alphabet-google-discounts',\n",
       "       '/webmail/en-us/tablet', '/a/google.com/forum/',\n",
       "       '/external-link.jspa', '/2015/03/11/google-merch-store-new-url/',\n",
       "       '/a/google.com/google-merchandise-store/on-site-store/mountain-view-store',\n",
       "       '/a/google.com/google-merchandise-store/newsite/on-site-store/mountain-view-store',\n",
       "       '/google-merchandise-store',\n",
       "       '/r/chromeos/comments/39boco/looking_for_chrome_sticker/',\n",
       "       '/document/d/1GSpeJSCBhxRNya7kiUbBKO3rR20jBBBF3H9oBMrWVsA/preview',\n",
       "       '/mail/ca/u/0/', '/Rewards/Products/Details.aspx', '/IUI6ugD07C',\n",
       "       '/promo-codes/googlemerchandisestore.com', '/away.php',\n",
       "       '/mail/u/1/', '/hangouts/_/google.com/dan-hackathon', '/forum/',\n",
       "       '/yt/creators/', '/l.php', '/maps/forum/AAAAQuUrST8rtQMhvDlS0Y/',\n",
       "       '/yt/space/newyork/',\n",
       "       '/Where-can-I-buy-a-stuffed-Go-language-gopher-mascot-online',\n",
       "       '/corp/google.com/google-merchandise-store/faqs', '/KtfjgWJtWs',\n",
       "       '/HBtw4R2RL5', '/neo/launch', '/watch',\n",
       "       '/a/google.com/nestlabs/nestling/nestling', '/analytics/web/',\n",
       "       '/od/Things-To-Do-in-Silicon-Valley/fl/How-To-Visit-the-Googleplex-the-Google-Head-Office-in-Mountain-View.htm',\n",
       "       '/QpXvjwMv6t', '/moma', '/url', '/search/GGmain.jhtml',\n",
       "       '/community/partners/local-sites/japanese/gsuite/marketing/google-store',\n",
       "       '/calendar/r/day',\n",
       "       '/corp/google.com/study/incentives/incentives-amounts',\n",
       "       '/DSmY7hNZth', '/site/northcountycomputer/', '/Lw3hzUjkK9',\n",
       "       '/document/d/1uELQ97D_yoYkVD_C7Jqc2i1R2gQfn9H0KjfVbu3m-kU/edit',\n",
       "       '/a/google.com/another-attempt-google-merchandise-store/mountain-view-on-site-merchandise-store',\n",
       "       '/photos/google-dog-toy-21237.html',\n",
       "       '/yt/creators-for-change/creators.html',\n",
       "       '/Google/shop.axd/ValidateLogin',\n",
       "       '/2610273/projects/12161610/todos/250267685', '/0xpEZvuoUz',\n",
       "       '/a/google.com/aa-noogler/getting-started/training-schedule',\n",
       "       '/a/google.com/nest-vision/dropcam-field-tester-program',\n",
       "       '/yt/about/en-GB/',\n",
       "       '/_/scs/mail-static/_/js/k=gmail.main.en.yASPeSEQ5YQ.O/m=m_i,t/am=OotXDrD_7_3BuIZhQFf6at3573--_VR26Oce_58IiCKvAv3___8A_w_ko20U/rt=h/d=1/rs=AHGWq9DZAa74rKvcihAYhdWoJ70MBwYmVA',\n",
       "       '/calendar/r/week/2017/7/8', '/u/0/', '/neo/rd', '/neo/b/message',\n",
       "       '/pagead/ads', '/buying/answer/7510021', '/yt/about/copyright/',\n",
       "       '/yt/space/losangeles/', '/optimize/opt-launch.html',\n",
       "       '/yt/about/brand-resources/', '/xud9jul6em',\n",
       "       '/yt/creators/benefits/opal/',\n",
       "       '/deal/-ds-1655-youtube-player-tshirt-unisex-vs-1780-list',\n",
       "       '/mail/mu/mp/676/'], dtype=object)"
      ]
     },
     "execution_count": 38,
     "metadata": {},
     "output_type": "execute_result"
    }
   ],
   "source": [
    "df_train['trafficSource.referralPath'].unique()"
   ]
  },
  {
   "cell_type": "code",
   "execution_count": null,
   "metadata": {},
   "outputs": [],
   "source": []
  },
  {
   "cell_type": "code",
   "execution_count": null,
   "metadata": {},
   "outputs": [],
   "source": []
  },
  {
   "cell_type": "code",
   "execution_count": null,
   "metadata": {},
   "outputs": [],
   "source": []
  },
  {
   "cell_type": "code",
   "execution_count": null,
   "metadata": {},
   "outputs": [],
   "source": []
  },
  {
   "cell_type": "code",
   "execution_count": null,
   "metadata": {},
   "outputs": [],
   "source": []
  }
 ],
 "metadata": {
  "kernelspec": {
   "display_name": "Python 3",
   "language": "python",
   "name": "python3"
  },
  "language_info": {
   "codemirror_mode": {
    "name": "ipython",
    "version": 3
   },
   "file_extension": ".py",
   "mimetype": "text/x-python",
   "name": "python",
   "nbconvert_exporter": "python",
   "pygments_lexer": "ipython3",
   "version": "3.8.5"
  }
 },
 "nbformat": 4,
 "nbformat_minor": 4
}
